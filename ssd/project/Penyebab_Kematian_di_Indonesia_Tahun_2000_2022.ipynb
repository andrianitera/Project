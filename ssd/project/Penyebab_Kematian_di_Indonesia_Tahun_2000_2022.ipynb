{
  "nbformat": 4,
  "nbformat_minor": 0,
  "metadata": {
    "colab": {
      "provenance": [],
      "collapsed_sections": [
        "EMITk7n1C0KY"
      ]
    },
    "kernelspec": {
      "name": "python3",
      "display_name": "Python 3"
    },
    "language_info": {
      "name": "python"
    }
  },
  "cells": [
    {
      "cell_type": "markdown",
      "source": [
        "[**Dataset**](https://www.kaggle.com/datasets/hendratno/cause-of-death-in-indonesia/data)\n"
      ],
      "metadata": {
        "id": "wQPN24JuCdhQ"
      }
    },
    {
      "cell_type": "markdown",
      "source": [
        "## Deskripsi Data"
      ],
      "metadata": {
        "id": "EMITk7n1C0KY"
      }
    },
    {
      "cell_type": "code",
      "execution_count": 85,
      "metadata": {
        "id": "Df5LbPcsBo0b"
      },
      "outputs": [],
      "source": [
        "# Import Library\n",
        "import pandas as pd"
      ]
    },
    {
      "cell_type": "code",
      "source": [
        "# Import dataset\n",
        "df = pd.read_csv(\"Penyebab Kematian di Indonesia yang Dilaporkan - Raw.csv\")\n",
        "df.head(10)"
      ],
      "metadata": {
        "colab": {
          "base_uri": "https://localhost:8080/",
          "height": 363
        },
        "id": "8dp6cxcfEGym",
        "outputId": "9eaf5df1-c90d-4d7a-e6a1-c72e445405aa"
      },
      "execution_count": 86,
      "outputs": [
        {
          "output_type": "execute_result",
          "data": {
            "text/plain": [
              "             Cause                           Type  Year  Data Redundancy  \\\n",
              "0  Abrasi Air Laut                   Bencana Alam  2012                1   \n",
              "1             AIDS  Bencana Non Alam dan Penyakit  2000                1   \n",
              "2             AIDS  Bencana Non Alam dan Penyakit  2001                1   \n",
              "3             AIDS  Bencana Non Alam dan Penyakit  2002                1   \n",
              "4             AIDS  Bencana Non Alam dan Penyakit  2003                5   \n",
              "5             AIDS  Bencana Non Alam dan Penyakit  2003                5   \n",
              "6             AIDS  Bencana Non Alam dan Penyakit  2003                5   \n",
              "7             AIDS  Bencana Non Alam dan Penyakit  2003                5   \n",
              "8             AIDS  Bencana Non Alam dan Penyakit  2003                5   \n",
              "9             AIDS  Bencana Non Alam dan Penyakit  2004                5   \n",
              "\n",
              "   Total Deaths                                 Source Page at Source  \\\n",
              "0             0  Profil Kesehatan Indonesia Tahun 2012  Lampiran 3.38   \n",
              "1            47  Profil Kesehatan Indonesia Tahun 2004             78   \n",
              "2            99  Profil Kesehatan Indonesia Tahun 2004             78   \n",
              "3           100  Profil Kesehatan Indonesia Tahun 2004             78   \n",
              "4           261  Profil Kesehatan Indonesia Tahun 2004             78   \n",
              "5           261  Profil Kesehatan Indonesia Tahun 2007             84   \n",
              "6           261  Profil Kesehatan Indonesia Tahun 2008            102   \n",
              "7           261  Profil Kesehatan Indonesia Tahun 2009             95   \n",
              "8           261  Profil Kesehatan Indonesia Tahun 2010            115   \n",
              "9           361  Profil Kesehatan Indonesia Tahun 2004             78   \n",
              "\n",
              "                                          Source URL  \n",
              "0  https://pusdatin.kemkes.go.id/download.php?fil...  \n",
              "1  https://pusdatin.kemkes.go.id/download.php?fil...  \n",
              "2  https://pusdatin.kemkes.go.id/download.php?fil...  \n",
              "3  https://pusdatin.kemkes.go.id/download.php?fil...  \n",
              "4  https://pusdatin.kemkes.go.id/download.php?fil...  \n",
              "5  https://pusdatin.kemkes.go.id/download.php?fil...  \n",
              "6  https://pusdatin.kemkes.go.id/download.php?fil...  \n",
              "7  https://pusdatin.kemkes.go.id/download.php?fil...  \n",
              "8  https://pusdatin.kemkes.go.id/download.php?fil...  \n",
              "9  https://pusdatin.kemkes.go.id/download.php?fil...  "
            ],
            "text/html": [
              "\n",
              "  <div id=\"df-cf45036b-8cde-4371-8080-769c40d69608\" class=\"colab-df-container\">\n",
              "    <div>\n",
              "<style scoped>\n",
              "    .dataframe tbody tr th:only-of-type {\n",
              "        vertical-align: middle;\n",
              "    }\n",
              "\n",
              "    .dataframe tbody tr th {\n",
              "        vertical-align: top;\n",
              "    }\n",
              "\n",
              "    .dataframe thead th {\n",
              "        text-align: right;\n",
              "    }\n",
              "</style>\n",
              "<table border=\"1\" class=\"dataframe\">\n",
              "  <thead>\n",
              "    <tr style=\"text-align: right;\">\n",
              "      <th></th>\n",
              "      <th>Cause</th>\n",
              "      <th>Type</th>\n",
              "      <th>Year</th>\n",
              "      <th>Data Redundancy</th>\n",
              "      <th>Total Deaths</th>\n",
              "      <th>Source</th>\n",
              "      <th>Page at Source</th>\n",
              "      <th>Source URL</th>\n",
              "    </tr>\n",
              "  </thead>\n",
              "  <tbody>\n",
              "    <tr>\n",
              "      <th>0</th>\n",
              "      <td>Abrasi Air Laut</td>\n",
              "      <td>Bencana Alam</td>\n",
              "      <td>2012</td>\n",
              "      <td>1</td>\n",
              "      <td>0</td>\n",
              "      <td>Profil Kesehatan Indonesia Tahun 2012</td>\n",
              "      <td>Lampiran 3.38</td>\n",
              "      <td>https://pusdatin.kemkes.go.id/download.php?fil...</td>\n",
              "    </tr>\n",
              "    <tr>\n",
              "      <th>1</th>\n",
              "      <td>AIDS</td>\n",
              "      <td>Bencana Non Alam dan Penyakit</td>\n",
              "      <td>2000</td>\n",
              "      <td>1</td>\n",
              "      <td>47</td>\n",
              "      <td>Profil Kesehatan Indonesia Tahun 2004</td>\n",
              "      <td>78</td>\n",
              "      <td>https://pusdatin.kemkes.go.id/download.php?fil...</td>\n",
              "    </tr>\n",
              "    <tr>\n",
              "      <th>2</th>\n",
              "      <td>AIDS</td>\n",
              "      <td>Bencana Non Alam dan Penyakit</td>\n",
              "      <td>2001</td>\n",
              "      <td>1</td>\n",
              "      <td>99</td>\n",
              "      <td>Profil Kesehatan Indonesia Tahun 2004</td>\n",
              "      <td>78</td>\n",
              "      <td>https://pusdatin.kemkes.go.id/download.php?fil...</td>\n",
              "    </tr>\n",
              "    <tr>\n",
              "      <th>3</th>\n",
              "      <td>AIDS</td>\n",
              "      <td>Bencana Non Alam dan Penyakit</td>\n",
              "      <td>2002</td>\n",
              "      <td>1</td>\n",
              "      <td>100</td>\n",
              "      <td>Profil Kesehatan Indonesia Tahun 2004</td>\n",
              "      <td>78</td>\n",
              "      <td>https://pusdatin.kemkes.go.id/download.php?fil...</td>\n",
              "    </tr>\n",
              "    <tr>\n",
              "      <th>4</th>\n",
              "      <td>AIDS</td>\n",
              "      <td>Bencana Non Alam dan Penyakit</td>\n",
              "      <td>2003</td>\n",
              "      <td>5</td>\n",
              "      <td>261</td>\n",
              "      <td>Profil Kesehatan Indonesia Tahun 2004</td>\n",
              "      <td>78</td>\n",
              "      <td>https://pusdatin.kemkes.go.id/download.php?fil...</td>\n",
              "    </tr>\n",
              "    <tr>\n",
              "      <th>5</th>\n",
              "      <td>AIDS</td>\n",
              "      <td>Bencana Non Alam dan Penyakit</td>\n",
              "      <td>2003</td>\n",
              "      <td>5</td>\n",
              "      <td>261</td>\n",
              "      <td>Profil Kesehatan Indonesia Tahun 2007</td>\n",
              "      <td>84</td>\n",
              "      <td>https://pusdatin.kemkes.go.id/download.php?fil...</td>\n",
              "    </tr>\n",
              "    <tr>\n",
              "      <th>6</th>\n",
              "      <td>AIDS</td>\n",
              "      <td>Bencana Non Alam dan Penyakit</td>\n",
              "      <td>2003</td>\n",
              "      <td>5</td>\n",
              "      <td>261</td>\n",
              "      <td>Profil Kesehatan Indonesia Tahun 2008</td>\n",
              "      <td>102</td>\n",
              "      <td>https://pusdatin.kemkes.go.id/download.php?fil...</td>\n",
              "    </tr>\n",
              "    <tr>\n",
              "      <th>7</th>\n",
              "      <td>AIDS</td>\n",
              "      <td>Bencana Non Alam dan Penyakit</td>\n",
              "      <td>2003</td>\n",
              "      <td>5</td>\n",
              "      <td>261</td>\n",
              "      <td>Profil Kesehatan Indonesia Tahun 2009</td>\n",
              "      <td>95</td>\n",
              "      <td>https://pusdatin.kemkes.go.id/download.php?fil...</td>\n",
              "    </tr>\n",
              "    <tr>\n",
              "      <th>8</th>\n",
              "      <td>AIDS</td>\n",
              "      <td>Bencana Non Alam dan Penyakit</td>\n",
              "      <td>2003</td>\n",
              "      <td>5</td>\n",
              "      <td>261</td>\n",
              "      <td>Profil Kesehatan Indonesia Tahun 2010</td>\n",
              "      <td>115</td>\n",
              "      <td>https://pusdatin.kemkes.go.id/download.php?fil...</td>\n",
              "    </tr>\n",
              "    <tr>\n",
              "      <th>9</th>\n",
              "      <td>AIDS</td>\n",
              "      <td>Bencana Non Alam dan Penyakit</td>\n",
              "      <td>2004</td>\n",
              "      <td>5</td>\n",
              "      <td>361</td>\n",
              "      <td>Profil Kesehatan Indonesia Tahun 2004</td>\n",
              "      <td>78</td>\n",
              "      <td>https://pusdatin.kemkes.go.id/download.php?fil...</td>\n",
              "    </tr>\n",
              "  </tbody>\n",
              "</table>\n",
              "</div>\n",
              "    <div class=\"colab-df-buttons\">\n",
              "\n",
              "  <div class=\"colab-df-container\">\n",
              "    <button class=\"colab-df-convert\" onclick=\"convertToInteractive('df-cf45036b-8cde-4371-8080-769c40d69608')\"\n",
              "            title=\"Convert this dataframe to an interactive table.\"\n",
              "            style=\"display:none;\">\n",
              "\n",
              "  <svg xmlns=\"http://www.w3.org/2000/svg\" height=\"24px\" viewBox=\"0 -960 960 960\">\n",
              "    <path d=\"M120-120v-720h720v720H120Zm60-500h600v-160H180v160Zm220 220h160v-160H400v160Zm0 220h160v-160H400v160ZM180-400h160v-160H180v160Zm440 0h160v-160H620v160ZM180-180h160v-160H180v160Zm440 0h160v-160H620v160Z\"/>\n",
              "  </svg>\n",
              "    </button>\n",
              "\n",
              "  <style>\n",
              "    .colab-df-container {\n",
              "      display:flex;\n",
              "      gap: 12px;\n",
              "    }\n",
              "\n",
              "    .colab-df-convert {\n",
              "      background-color: #E8F0FE;\n",
              "      border: none;\n",
              "      border-radius: 50%;\n",
              "      cursor: pointer;\n",
              "      display: none;\n",
              "      fill: #1967D2;\n",
              "      height: 32px;\n",
              "      padding: 0 0 0 0;\n",
              "      width: 32px;\n",
              "    }\n",
              "\n",
              "    .colab-df-convert:hover {\n",
              "      background-color: #E2EBFA;\n",
              "      box-shadow: 0px 1px 2px rgba(60, 64, 67, 0.3), 0px 1px 3px 1px rgba(60, 64, 67, 0.15);\n",
              "      fill: #174EA6;\n",
              "    }\n",
              "\n",
              "    .colab-df-buttons div {\n",
              "      margin-bottom: 4px;\n",
              "    }\n",
              "\n",
              "    [theme=dark] .colab-df-convert {\n",
              "      background-color: #3B4455;\n",
              "      fill: #D2E3FC;\n",
              "    }\n",
              "\n",
              "    [theme=dark] .colab-df-convert:hover {\n",
              "      background-color: #434B5C;\n",
              "      box-shadow: 0px 1px 3px 1px rgba(0, 0, 0, 0.15);\n",
              "      filter: drop-shadow(0px 1px 2px rgba(0, 0, 0, 0.3));\n",
              "      fill: #FFFFFF;\n",
              "    }\n",
              "  </style>\n",
              "\n",
              "    <script>\n",
              "      const buttonEl =\n",
              "        document.querySelector('#df-cf45036b-8cde-4371-8080-769c40d69608 button.colab-df-convert');\n",
              "      buttonEl.style.display =\n",
              "        google.colab.kernel.accessAllowed ? 'block' : 'none';\n",
              "\n",
              "      async function convertToInteractive(key) {\n",
              "        const element = document.querySelector('#df-cf45036b-8cde-4371-8080-769c40d69608');\n",
              "        const dataTable =\n",
              "          await google.colab.kernel.invokeFunction('convertToInteractive',\n",
              "                                                    [key], {});\n",
              "        if (!dataTable) return;\n",
              "\n",
              "        const docLinkHtml = 'Like what you see? Visit the ' +\n",
              "          '<a target=\"_blank\" href=https://colab.research.google.com/notebooks/data_table.ipynb>data table notebook</a>'\n",
              "          + ' to learn more about interactive tables.';\n",
              "        element.innerHTML = '';\n",
              "        dataTable['output_type'] = 'display_data';\n",
              "        await google.colab.output.renderOutput(dataTable, element);\n",
              "        const docLink = document.createElement('div');\n",
              "        docLink.innerHTML = docLinkHtml;\n",
              "        element.appendChild(docLink);\n",
              "      }\n",
              "    </script>\n",
              "  </div>\n",
              "\n",
              "\n",
              "<div id=\"df-451cbac5-dbe4-4f37-a85a-ff056be9b078\">\n",
              "  <button class=\"colab-df-quickchart\" onclick=\"quickchart('df-451cbac5-dbe4-4f37-a85a-ff056be9b078')\"\n",
              "            title=\"Suggest charts\"\n",
              "            style=\"display:none;\">\n",
              "\n",
              "<svg xmlns=\"http://www.w3.org/2000/svg\" height=\"24px\"viewBox=\"0 0 24 24\"\n",
              "     width=\"24px\">\n",
              "    <g>\n",
              "        <path d=\"M19 3H5c-1.1 0-2 .9-2 2v14c0 1.1.9 2 2 2h14c1.1 0 2-.9 2-2V5c0-1.1-.9-2-2-2zM9 17H7v-7h2v7zm4 0h-2V7h2v10zm4 0h-2v-4h2v4z\"/>\n",
              "    </g>\n",
              "</svg>\n",
              "  </button>\n",
              "\n",
              "<style>\n",
              "  .colab-df-quickchart {\n",
              "      --bg-color: #E8F0FE;\n",
              "      --fill-color: #1967D2;\n",
              "      --hover-bg-color: #E2EBFA;\n",
              "      --hover-fill-color: #174EA6;\n",
              "      --disabled-fill-color: #AAA;\n",
              "      --disabled-bg-color: #DDD;\n",
              "  }\n",
              "\n",
              "  [theme=dark] .colab-df-quickchart {\n",
              "      --bg-color: #3B4455;\n",
              "      --fill-color: #D2E3FC;\n",
              "      --hover-bg-color: #434B5C;\n",
              "      --hover-fill-color: #FFFFFF;\n",
              "      --disabled-bg-color: #3B4455;\n",
              "      --disabled-fill-color: #666;\n",
              "  }\n",
              "\n",
              "  .colab-df-quickchart {\n",
              "    background-color: var(--bg-color);\n",
              "    border: none;\n",
              "    border-radius: 50%;\n",
              "    cursor: pointer;\n",
              "    display: none;\n",
              "    fill: var(--fill-color);\n",
              "    height: 32px;\n",
              "    padding: 0;\n",
              "    width: 32px;\n",
              "  }\n",
              "\n",
              "  .colab-df-quickchart:hover {\n",
              "    background-color: var(--hover-bg-color);\n",
              "    box-shadow: 0 1px 2px rgba(60, 64, 67, 0.3), 0 1px 3px 1px rgba(60, 64, 67, 0.15);\n",
              "    fill: var(--button-hover-fill-color);\n",
              "  }\n",
              "\n",
              "  .colab-df-quickchart-complete:disabled,\n",
              "  .colab-df-quickchart-complete:disabled:hover {\n",
              "    background-color: var(--disabled-bg-color);\n",
              "    fill: var(--disabled-fill-color);\n",
              "    box-shadow: none;\n",
              "  }\n",
              "\n",
              "  .colab-df-spinner {\n",
              "    border: 2px solid var(--fill-color);\n",
              "    border-color: transparent;\n",
              "    border-bottom-color: var(--fill-color);\n",
              "    animation:\n",
              "      spin 1s steps(1) infinite;\n",
              "  }\n",
              "\n",
              "  @keyframes spin {\n",
              "    0% {\n",
              "      border-color: transparent;\n",
              "      border-bottom-color: var(--fill-color);\n",
              "      border-left-color: var(--fill-color);\n",
              "    }\n",
              "    20% {\n",
              "      border-color: transparent;\n",
              "      border-left-color: var(--fill-color);\n",
              "      border-top-color: var(--fill-color);\n",
              "    }\n",
              "    30% {\n",
              "      border-color: transparent;\n",
              "      border-left-color: var(--fill-color);\n",
              "      border-top-color: var(--fill-color);\n",
              "      border-right-color: var(--fill-color);\n",
              "    }\n",
              "    40% {\n",
              "      border-color: transparent;\n",
              "      border-right-color: var(--fill-color);\n",
              "      border-top-color: var(--fill-color);\n",
              "    }\n",
              "    60% {\n",
              "      border-color: transparent;\n",
              "      border-right-color: var(--fill-color);\n",
              "    }\n",
              "    80% {\n",
              "      border-color: transparent;\n",
              "      border-right-color: var(--fill-color);\n",
              "      border-bottom-color: var(--fill-color);\n",
              "    }\n",
              "    90% {\n",
              "      border-color: transparent;\n",
              "      border-bottom-color: var(--fill-color);\n",
              "    }\n",
              "  }\n",
              "</style>\n",
              "\n",
              "  <script>\n",
              "    async function quickchart(key) {\n",
              "      const quickchartButtonEl =\n",
              "        document.querySelector('#' + key + ' button');\n",
              "      quickchartButtonEl.disabled = true;  // To prevent multiple clicks.\n",
              "      quickchartButtonEl.classList.add('colab-df-spinner');\n",
              "      try {\n",
              "        const charts = await google.colab.kernel.invokeFunction(\n",
              "            'suggestCharts', [key], {});\n",
              "      } catch (error) {\n",
              "        console.error('Error during call to suggestCharts:', error);\n",
              "      }\n",
              "      quickchartButtonEl.classList.remove('colab-df-spinner');\n",
              "      quickchartButtonEl.classList.add('colab-df-quickchart-complete');\n",
              "    }\n",
              "    (() => {\n",
              "      let quickchartButtonEl =\n",
              "        document.querySelector('#df-451cbac5-dbe4-4f37-a85a-ff056be9b078 button');\n",
              "      quickchartButtonEl.style.display =\n",
              "        google.colab.kernel.accessAllowed ? 'block' : 'none';\n",
              "    })();\n",
              "  </script>\n",
              "</div>\n",
              "    </div>\n",
              "  </div>\n"
            ]
          },
          "metadata": {},
          "execution_count": 86
        }
      ]
    },
    {
      "cell_type": "code",
      "source": [
        "# Menampilakn size dari dataset agar memudahkan dalam pembacaan dataset\n",
        "df.shape"
      ],
      "metadata": {
        "colab": {
          "base_uri": "https://localhost:8080/"
        },
        "id": "72xVf7QXEhEG",
        "outputId": "e0ca7696-8f36-4152-8030-a6286ef6ef10"
      },
      "execution_count": 87,
      "outputs": [
        {
          "output_type": "execute_result",
          "data": {
            "text/plain": [
              "(1062, 8)"
            ]
          },
          "metadata": {},
          "execution_count": 87
        }
      ]
    },
    {
      "cell_type": "code",
      "source": [
        "# Melihat atibut dari setiap variabel\n",
        "df.dtypes"
      ],
      "metadata": {
        "colab": {
          "base_uri": "https://localhost:8080/"
        },
        "id": "PZNfNcVrF0M9",
        "outputId": "c9405cbe-58a3-4d8b-e23f-55ed9e671bc3"
      },
      "execution_count": 88,
      "outputs": [
        {
          "output_type": "execute_result",
          "data": {
            "text/plain": [
              "Cause              object\n",
              "Type               object\n",
              "Year                int64\n",
              "Data Redundancy     int64\n",
              "Total Deaths        int64\n",
              "Source             object\n",
              "Page at Source     object\n",
              "Source URL         object\n",
              "dtype: object"
            ]
          },
          "metadata": {},
          "execution_count": 88
        }
      ]
    },
    {
      "cell_type": "code",
      "source": [
        "# Menampilkan deskripsi statistika pada dataset heart\n",
        "df.describe()"
      ],
      "metadata": {
        "colab": {
          "base_uri": "https://localhost:8080/",
          "height": 300
        },
        "id": "tzdyvgIOGATh",
        "outputId": "83c46a94-76c2-4a7e-9ce6-8b96ba68f8df"
      },
      "execution_count": 89,
      "outputs": [
        {
          "output_type": "execute_result",
          "data": {
            "text/plain": [
              "              Year  Data Redundancy   Total Deaths\n",
              "count  1062.000000      1062.000000    1062.000000\n",
              "mean   2010.202448         2.932203    1194.364407\n",
              "std       5.227120         2.776486    6248.983680\n",
              "min    2000.000000         1.000000       0.000000\n",
              "25%    2006.000000         1.000000       6.000000\n",
              "50%    2009.000000         1.000000      42.000000\n",
              "75%    2014.000000         4.000000     261.000000\n",
              "max    2022.000000        12.000000  129171.000000"
            ],
            "text/html": [
              "\n",
              "  <div id=\"df-3d76f6fd-0d07-48cd-a8c7-50b1543c5c72\" class=\"colab-df-container\">\n",
              "    <div>\n",
              "<style scoped>\n",
              "    .dataframe tbody tr th:only-of-type {\n",
              "        vertical-align: middle;\n",
              "    }\n",
              "\n",
              "    .dataframe tbody tr th {\n",
              "        vertical-align: top;\n",
              "    }\n",
              "\n",
              "    .dataframe thead th {\n",
              "        text-align: right;\n",
              "    }\n",
              "</style>\n",
              "<table border=\"1\" class=\"dataframe\">\n",
              "  <thead>\n",
              "    <tr style=\"text-align: right;\">\n",
              "      <th></th>\n",
              "      <th>Year</th>\n",
              "      <th>Data Redundancy</th>\n",
              "      <th>Total Deaths</th>\n",
              "    </tr>\n",
              "  </thead>\n",
              "  <tbody>\n",
              "    <tr>\n",
              "      <th>count</th>\n",
              "      <td>1062.000000</td>\n",
              "      <td>1062.000000</td>\n",
              "      <td>1062.000000</td>\n",
              "    </tr>\n",
              "    <tr>\n",
              "      <th>mean</th>\n",
              "      <td>2010.202448</td>\n",
              "      <td>2.932203</td>\n",
              "      <td>1194.364407</td>\n",
              "    </tr>\n",
              "    <tr>\n",
              "      <th>std</th>\n",
              "      <td>5.227120</td>\n",
              "      <td>2.776486</td>\n",
              "      <td>6248.983680</td>\n",
              "    </tr>\n",
              "    <tr>\n",
              "      <th>min</th>\n",
              "      <td>2000.000000</td>\n",
              "      <td>1.000000</td>\n",
              "      <td>0.000000</td>\n",
              "    </tr>\n",
              "    <tr>\n",
              "      <th>25%</th>\n",
              "      <td>2006.000000</td>\n",
              "      <td>1.000000</td>\n",
              "      <td>6.000000</td>\n",
              "    </tr>\n",
              "    <tr>\n",
              "      <th>50%</th>\n",
              "      <td>2009.000000</td>\n",
              "      <td>1.000000</td>\n",
              "      <td>42.000000</td>\n",
              "    </tr>\n",
              "    <tr>\n",
              "      <th>75%</th>\n",
              "      <td>2014.000000</td>\n",
              "      <td>4.000000</td>\n",
              "      <td>261.000000</td>\n",
              "    </tr>\n",
              "    <tr>\n",
              "      <th>max</th>\n",
              "      <td>2022.000000</td>\n",
              "      <td>12.000000</td>\n",
              "      <td>129171.000000</td>\n",
              "    </tr>\n",
              "  </tbody>\n",
              "</table>\n",
              "</div>\n",
              "    <div class=\"colab-df-buttons\">\n",
              "\n",
              "  <div class=\"colab-df-container\">\n",
              "    <button class=\"colab-df-convert\" onclick=\"convertToInteractive('df-3d76f6fd-0d07-48cd-a8c7-50b1543c5c72')\"\n",
              "            title=\"Convert this dataframe to an interactive table.\"\n",
              "            style=\"display:none;\">\n",
              "\n",
              "  <svg xmlns=\"http://www.w3.org/2000/svg\" height=\"24px\" viewBox=\"0 -960 960 960\">\n",
              "    <path d=\"M120-120v-720h720v720H120Zm60-500h600v-160H180v160Zm220 220h160v-160H400v160Zm0 220h160v-160H400v160ZM180-400h160v-160H180v160Zm440 0h160v-160H620v160ZM180-180h160v-160H180v160Zm440 0h160v-160H620v160Z\"/>\n",
              "  </svg>\n",
              "    </button>\n",
              "\n",
              "  <style>\n",
              "    .colab-df-container {\n",
              "      display:flex;\n",
              "      gap: 12px;\n",
              "    }\n",
              "\n",
              "    .colab-df-convert {\n",
              "      background-color: #E8F0FE;\n",
              "      border: none;\n",
              "      border-radius: 50%;\n",
              "      cursor: pointer;\n",
              "      display: none;\n",
              "      fill: #1967D2;\n",
              "      height: 32px;\n",
              "      padding: 0 0 0 0;\n",
              "      width: 32px;\n",
              "    }\n",
              "\n",
              "    .colab-df-convert:hover {\n",
              "      background-color: #E2EBFA;\n",
              "      box-shadow: 0px 1px 2px rgba(60, 64, 67, 0.3), 0px 1px 3px 1px rgba(60, 64, 67, 0.15);\n",
              "      fill: #174EA6;\n",
              "    }\n",
              "\n",
              "    .colab-df-buttons div {\n",
              "      margin-bottom: 4px;\n",
              "    }\n",
              "\n",
              "    [theme=dark] .colab-df-convert {\n",
              "      background-color: #3B4455;\n",
              "      fill: #D2E3FC;\n",
              "    }\n",
              "\n",
              "    [theme=dark] .colab-df-convert:hover {\n",
              "      background-color: #434B5C;\n",
              "      box-shadow: 0px 1px 3px 1px rgba(0, 0, 0, 0.15);\n",
              "      filter: drop-shadow(0px 1px 2px rgba(0, 0, 0, 0.3));\n",
              "      fill: #FFFFFF;\n",
              "    }\n",
              "  </style>\n",
              "\n",
              "    <script>\n",
              "      const buttonEl =\n",
              "        document.querySelector('#df-3d76f6fd-0d07-48cd-a8c7-50b1543c5c72 button.colab-df-convert');\n",
              "      buttonEl.style.display =\n",
              "        google.colab.kernel.accessAllowed ? 'block' : 'none';\n",
              "\n",
              "      async function convertToInteractive(key) {\n",
              "        const element = document.querySelector('#df-3d76f6fd-0d07-48cd-a8c7-50b1543c5c72');\n",
              "        const dataTable =\n",
              "          await google.colab.kernel.invokeFunction('convertToInteractive',\n",
              "                                                    [key], {});\n",
              "        if (!dataTable) return;\n",
              "\n",
              "        const docLinkHtml = 'Like what you see? Visit the ' +\n",
              "          '<a target=\"_blank\" href=https://colab.research.google.com/notebooks/data_table.ipynb>data table notebook</a>'\n",
              "          + ' to learn more about interactive tables.';\n",
              "        element.innerHTML = '';\n",
              "        dataTable['output_type'] = 'display_data';\n",
              "        await google.colab.output.renderOutput(dataTable, element);\n",
              "        const docLink = document.createElement('div');\n",
              "        docLink.innerHTML = docLinkHtml;\n",
              "        element.appendChild(docLink);\n",
              "      }\n",
              "    </script>\n",
              "  </div>\n",
              "\n",
              "\n",
              "<div id=\"df-6cf107ca-21c7-4437-bb94-54a35235871e\">\n",
              "  <button class=\"colab-df-quickchart\" onclick=\"quickchart('df-6cf107ca-21c7-4437-bb94-54a35235871e')\"\n",
              "            title=\"Suggest charts\"\n",
              "            style=\"display:none;\">\n",
              "\n",
              "<svg xmlns=\"http://www.w3.org/2000/svg\" height=\"24px\"viewBox=\"0 0 24 24\"\n",
              "     width=\"24px\">\n",
              "    <g>\n",
              "        <path d=\"M19 3H5c-1.1 0-2 .9-2 2v14c0 1.1.9 2 2 2h14c1.1 0 2-.9 2-2V5c0-1.1-.9-2-2-2zM9 17H7v-7h2v7zm4 0h-2V7h2v10zm4 0h-2v-4h2v4z\"/>\n",
              "    </g>\n",
              "</svg>\n",
              "  </button>\n",
              "\n",
              "<style>\n",
              "  .colab-df-quickchart {\n",
              "      --bg-color: #E8F0FE;\n",
              "      --fill-color: #1967D2;\n",
              "      --hover-bg-color: #E2EBFA;\n",
              "      --hover-fill-color: #174EA6;\n",
              "      --disabled-fill-color: #AAA;\n",
              "      --disabled-bg-color: #DDD;\n",
              "  }\n",
              "\n",
              "  [theme=dark] .colab-df-quickchart {\n",
              "      --bg-color: #3B4455;\n",
              "      --fill-color: #D2E3FC;\n",
              "      --hover-bg-color: #434B5C;\n",
              "      --hover-fill-color: #FFFFFF;\n",
              "      --disabled-bg-color: #3B4455;\n",
              "      --disabled-fill-color: #666;\n",
              "  }\n",
              "\n",
              "  .colab-df-quickchart {\n",
              "    background-color: var(--bg-color);\n",
              "    border: none;\n",
              "    border-radius: 50%;\n",
              "    cursor: pointer;\n",
              "    display: none;\n",
              "    fill: var(--fill-color);\n",
              "    height: 32px;\n",
              "    padding: 0;\n",
              "    width: 32px;\n",
              "  }\n",
              "\n",
              "  .colab-df-quickchart:hover {\n",
              "    background-color: var(--hover-bg-color);\n",
              "    box-shadow: 0 1px 2px rgba(60, 64, 67, 0.3), 0 1px 3px 1px rgba(60, 64, 67, 0.15);\n",
              "    fill: var(--button-hover-fill-color);\n",
              "  }\n",
              "\n",
              "  .colab-df-quickchart-complete:disabled,\n",
              "  .colab-df-quickchart-complete:disabled:hover {\n",
              "    background-color: var(--disabled-bg-color);\n",
              "    fill: var(--disabled-fill-color);\n",
              "    box-shadow: none;\n",
              "  }\n",
              "\n",
              "  .colab-df-spinner {\n",
              "    border: 2px solid var(--fill-color);\n",
              "    border-color: transparent;\n",
              "    border-bottom-color: var(--fill-color);\n",
              "    animation:\n",
              "      spin 1s steps(1) infinite;\n",
              "  }\n",
              "\n",
              "  @keyframes spin {\n",
              "    0% {\n",
              "      border-color: transparent;\n",
              "      border-bottom-color: var(--fill-color);\n",
              "      border-left-color: var(--fill-color);\n",
              "    }\n",
              "    20% {\n",
              "      border-color: transparent;\n",
              "      border-left-color: var(--fill-color);\n",
              "      border-top-color: var(--fill-color);\n",
              "    }\n",
              "    30% {\n",
              "      border-color: transparent;\n",
              "      border-left-color: var(--fill-color);\n",
              "      border-top-color: var(--fill-color);\n",
              "      border-right-color: var(--fill-color);\n",
              "    }\n",
              "    40% {\n",
              "      border-color: transparent;\n",
              "      border-right-color: var(--fill-color);\n",
              "      border-top-color: var(--fill-color);\n",
              "    }\n",
              "    60% {\n",
              "      border-color: transparent;\n",
              "      border-right-color: var(--fill-color);\n",
              "    }\n",
              "    80% {\n",
              "      border-color: transparent;\n",
              "      border-right-color: var(--fill-color);\n",
              "      border-bottom-color: var(--fill-color);\n",
              "    }\n",
              "    90% {\n",
              "      border-color: transparent;\n",
              "      border-bottom-color: var(--fill-color);\n",
              "    }\n",
              "  }\n",
              "</style>\n",
              "\n",
              "  <script>\n",
              "    async function quickchart(key) {\n",
              "      const quickchartButtonEl =\n",
              "        document.querySelector('#' + key + ' button');\n",
              "      quickchartButtonEl.disabled = true;  // To prevent multiple clicks.\n",
              "      quickchartButtonEl.classList.add('colab-df-spinner');\n",
              "      try {\n",
              "        const charts = await google.colab.kernel.invokeFunction(\n",
              "            'suggestCharts', [key], {});\n",
              "      } catch (error) {\n",
              "        console.error('Error during call to suggestCharts:', error);\n",
              "      }\n",
              "      quickchartButtonEl.classList.remove('colab-df-spinner');\n",
              "      quickchartButtonEl.classList.add('colab-df-quickchart-complete');\n",
              "    }\n",
              "    (() => {\n",
              "      let quickchartButtonEl =\n",
              "        document.querySelector('#df-6cf107ca-21c7-4437-bb94-54a35235871e button');\n",
              "      quickchartButtonEl.style.display =\n",
              "        google.colab.kernel.accessAllowed ? 'block' : 'none';\n",
              "    })();\n",
              "  </script>\n",
              "</div>\n",
              "    </div>\n",
              "  </div>\n"
            ]
          },
          "metadata": {},
          "execution_count": 89
        }
      ]
    },
    {
      "cell_type": "markdown",
      "source": [
        "## data cleaning"
      ],
      "metadata": {
        "id": "3Mz7F1TJNhoW"
      }
    },
    {
      "cell_type": "code",
      "source": [
        "df1 = df.drop(['Page at Source', 'Source URL', 'Data Redundancy'], axis=1)"
      ],
      "metadata": {
        "id": "ZFCfU9zKNpTn"
      },
      "execution_count": 108,
      "outputs": []
    },
    {
      "cell_type": "code",
      "source": [
        "import pandas as pd\n",
        "import seaborn as sns"
      ],
      "metadata": {
        "id": "xmMvL6zqQwIq"
      },
      "execution_count": 109,
      "outputs": []
    },
    {
      "cell_type": "code",
      "source": [
        "# Mengecek kembali vairbel\n",
        "df1.columns"
      ],
      "metadata": {
        "colab": {
          "base_uri": "https://localhost:8080/"
        },
        "id": "kYkY8dGJRMIl",
        "outputId": "70169f23-0f0e-4633-fc11-eda8c826a853"
      },
      "execution_count": 110,
      "outputs": [
        {
          "output_type": "execute_result",
          "data": {
            "text/plain": [
              "Index(['Cause', 'Type', 'Year', 'Total Deaths', 'Source'], dtype='object')"
            ]
          },
          "metadata": {},
          "execution_count": 110
        }
      ]
    },
    {
      "cell_type": "code",
      "source": [
        "df1.isnull().sum()"
      ],
      "metadata": {
        "colab": {
          "base_uri": "https://localhost:8080/"
        },
        "id": "AmFeyBTLOaRl",
        "outputId": "2d19e9b1-4511-490d-db39-e4f933211db9"
      },
      "execution_count": 111,
      "outputs": [
        {
          "output_type": "execute_result",
          "data": {
            "text/plain": [
              "Cause           0\n",
              "Type            0\n",
              "Year            0\n",
              "Total Deaths    0\n",
              "Source          0\n",
              "dtype: int64"
            ]
          },
          "metadata": {},
          "execution_count": 111
        }
      ]
    },
    {
      "cell_type": "code",
      "source": [
        "df1.to_csv('penyebab_kematian_clean.csv', index=False)"
      ],
      "metadata": {
        "id": "EHoCFrziXICo"
      },
      "execution_count": 112,
      "outputs": []
    },
    {
      "cell_type": "markdown",
      "source": [
        "## Eksplorasi Data"
      ],
      "metadata": {
        "id": "dOIJUE6HN54l"
      }
    },
    {
      "cell_type": "code",
      "source": [
        "import matplotlib.pyplot as plt"
      ],
      "metadata": {
        "id": "tOfh5mljOPVL"
      },
      "execution_count": 95,
      "outputs": []
    },
    {
      "cell_type": "code",
      "source": [
        "df1.groupby('Cause')['Total Deaths'].sum().sort_values(ascending=False).head(10)"
      ],
      "metadata": {
        "colab": {
          "base_uri": "https://localhost:8080/"
        },
        "id": "G_9GY3gDfLW5",
        "outputId": "0b3e55d8-b7da-4786-af82-72193a859214"
      },
      "execution_count": 113,
      "outputs": [
        {
          "output_type": "execute_result",
          "data": {
            "text/plain": [
              "Cause\n",
              "COVID-19                                             156970\n",
              "Penyakit Sistem Sirkulasi Darah                      149985\n",
              "Tsunami Aceh (Meninggal)                             129171\n",
              "Penyakit Infeksi & Parasit Tertentu                  109222\n",
              "Kondisi Tertentu yang bermula pada masa Perinatal     66153\n",
              "Kecelakaan Lalu Lintas                                59604\n",
              "Penyakit Sistem Napas                                 50171\n",
              "Tuberkulosis                                          39315\n",
              "Tsunami Aceh (Hilang)                                 37527\n",
              "Penyakit Sistem Cerna                                 37505\n",
              "Name: Total Deaths, dtype: int64"
            ]
          },
          "metadata": {},
          "execution_count": 113
        }
      ]
    },
    {
      "cell_type": "code",
      "source": [
        "#Menghitung jumlah kematian dari setiap penyebab\n",
        "df1.groupby('Cause')['Total Deaths'].sum().sort_values(ascending=False).head(10)\n"
      ],
      "metadata": {
        "colab": {
          "base_uri": "https://localhost:8080/"
        },
        "id": "8nIQgBD7N5Mn",
        "outputId": "31d7faea-9b1d-4918-f70a-f9e214dff901"
      },
      "execution_count": 114,
      "outputs": [
        {
          "output_type": "execute_result",
          "data": {
            "text/plain": [
              "Cause\n",
              "COVID-19                                             156970\n",
              "Penyakit Sistem Sirkulasi Darah                      149985\n",
              "Tsunami Aceh (Meninggal)                             129171\n",
              "Penyakit Infeksi & Parasit Tertentu                  109222\n",
              "Kondisi Tertentu yang bermula pada masa Perinatal     66153\n",
              "Kecelakaan Lalu Lintas                                59604\n",
              "Penyakit Sistem Napas                                 50171\n",
              "Tuberkulosis                                          39315\n",
              "Tsunami Aceh (Hilang)                                 37527\n",
              "Penyakit Sistem Cerna                                 37505\n",
              "Name: Total Deaths, dtype: int64"
            ]
          },
          "metadata": {},
          "execution_count": 114
        }
      ]
    },
    {
      "cell_type": "code",
      "source": [
        "type_df = df1.groupby('Type')['Total Deaths'].sum()\n",
        "print(type_df)\n",
        "plt.pie(type_df.values,labels=type_df.index,colors=['orange','red','black'],autopct='%1.0f%%')"
      ],
      "metadata": {
        "colab": {
          "base_uri": "https://localhost:8080/",
          "height": 664
        },
        "id": "qvD37pggO9dd",
        "outputId": "fe19ea2c-af4f-465b-baa4-738332b58d9b"
      },
      "execution_count": 115,
      "outputs": [
        {
          "output_type": "stream",
          "name": "stdout",
          "text": [
            "Type\n",
            "Bencana Alam                      185290\n",
            "Bencana Non Alam dan Penyakit    1082864\n",
            "Bencana Sosial                       261\n",
            "Name: Total Deaths, dtype: int64\n"
          ]
        },
        {
          "output_type": "execute_result",
          "data": {
            "text/plain": [
              "([<matplotlib.patches.Wedge at 0x7d2b7257a6b0>,\n",
              "  <matplotlib.patches.Wedge at 0x7d2b7257a5c0>,\n",
              "  <matplotlib.patches.Wedge at 0x7d2b7257b3a0>],\n",
              " [Text(0.9861827693897169, 0.4872817925582984, 'Bencana Alam'),\n",
              "  Text(-0.9864975418656909, -0.48664422311679556, 'Bencana Non Alam dan Penyakit'),\n",
              "  Text(1.0999997702224027, -0.0007109927296258798, 'Bencana Sosial')],\n",
              " [Text(0.5379178742125728, 0.26579006866816274, '15%'),\n",
              "  Text(-0.5380895682903768, -0.2654423035182521, '85%'),\n",
              "  Text(0.599999874666765, -0.00038781421615957076, '0%')])"
            ]
          },
          "metadata": {},
          "execution_count": 115
        },
        {
          "output_type": "display_data",
          "data": {
            "text/plain": [
              "<Figure size 640x480 with 1 Axes>"
            ],
            "image/png": "[encoded data removed]"
          },
          "metadata": {}
        }
      ]
    },
    {
      "cell_type": "code",
      "source": [
        "cause_df = df1.groupby('Cause')['Total Deaths'].sum().sort_values(ascending=False).head(20)\n",
        "print(cause_df)\n",
        "plt.bar(cause_df.index, cause_df.values)\n",
        "plt.xticks(rotation='vertical')\n",
        "plt.xlabel('Cause')\n",
        "plt.ylabel('Total Deaths')"
      ],
      "metadata": {
        "colab": {
          "base_uri": "https://localhost:8080/",
          "height": 1000
        },
        "id": "PRP4DgfJT2Vk",
        "outputId": "098bf05b-c767-4ce5-b246-78bd2cdc228f"
      },
      "execution_count": 118,
      "outputs": [
        {
          "output_type": "stream",
          "name": "stdout",
          "text": [
            "Cause\n",
            "COVID-19                                                      156970\n",
            "Penyakit Sistem Sirkulasi Darah                               149985\n",
            "Tsunami Aceh (Meninggal)                                      129171\n",
            "Penyakit Infeksi & Parasit Tertentu                           109222\n",
            "Kondisi Tertentu yang bermula pada masa Perinatal              66153\n",
            "Kecelakaan Lalu Lintas                                         59604\n",
            "Penyakit Sistem Napas                                          50171\n",
            "Tuberkulosis                                                   39315\n",
            "Tsunami Aceh (Hilang)                                          37527\n",
            "Penyakit Sistem Cerna                                          37505\n",
            "Cedera, Keracunan, dan Akibat Sebab Luar Tertentu Lainnya      32350\n",
            "Penyakit Endokrin, Nutrisi, dan Metabolik                      31442\n",
            "Demam Berdarah Dengue (DBD)                                    28523\n",
            "Penyakit Sistem Kemih Kelamin                                  25531\n",
            "Neoplasma                                                      24827\n",
            "Gejala, Tanda & Penemuan Laboratorium, Klinik Abnormal YTK     22299\n",
            "AIDS                                                           22160\n",
            "Stroke tidak menyebut pendarahan atau infark                   17661\n",
            "Pneumonia                                                      15781\n",
            "Perdarahan intrakranial                                        13794\n",
            "Name: Total Deaths, dtype: int64\n"
          ]
        },
        {
          "output_type": "execute_result",
          "data": {
            "text/plain": [
              "Text(0, 0.5, 'Total Deaths')"
            ]
          },
          "metadata": {},
          "execution_count": 118
        },
        {
          "output_type": "display_data",
          "data": {
            "text/plain": [
              "<Figure size 640x480 with 1 Axes>"
            ],
            "image/png": "[encoded data removed]"
          },
          "metadata": {}
        }
      ]
    },
    {
      "cell_type": "code",
      "source": [
        "year_df = df1.groupby('Year')['Total Deaths'].sum()\n",
        "year_df"
      ],
      "metadata": {
        "colab": {
          "base_uri": "https://localhost:8080/"
        },
        "id": "OJQ5aRzOSJ1A",
        "outputId": "e2c2952f-1201-4f0f-e100-391d94b1406f"
      },
      "execution_count": 119,
      "outputs": [
        {
          "output_type": "execute_result",
          "data": {
            "text/plain": [
              "Year\n",
              "2000       448\n",
              "2001       424\n",
              "2002       537\n",
              "2003      1817\n",
              "2004    222351\n",
              "2005    126809\n",
              "2006    246697\n",
              "2007     95097\n",
              "2008    257343\n",
              "2009     37267\n",
              "2010     49712\n",
              "2011      3609\n",
              "2012      2794\n",
              "2013      1896\n",
              "2014      1878\n",
              "2015      3420\n",
              "2016      3222\n",
              "2017      1623\n",
              "2018      5494\n",
              "2019     14941\n",
              "2020     38169\n",
              "2021    139991\n",
              "2022     12876\n",
              "Name: Total Deaths, dtype: int64"
            ]
          },
          "metadata": {},
          "execution_count": 119
        }
      ]
    },
    {
      "cell_type": "code",
      "source": [
        "plt.figure(figsize=(20, 5))\n",
        "plt.plot(year_df)\n",
        "plt.title('Pergerakan angka kematian pada tahun 2000-2022')\n",
        "plt.xlabel('Year')\n",
        "plt.ylabel('Total Deaths')"
      ],
      "metadata": {
        "colab": {
          "base_uri": "https://localhost:8080/",
          "height": 505
        },
        "id": "P_iEURjgQkSO",
        "outputId": "0e63558a-35eb-4ce3-b23e-0a884137f541"
      },
      "execution_count": 120,
      "outputs": [
        {
          "output_type": "execute_result",
          "data": {
            "text/plain": [
              "Text(0, 0.5, 'Total Deaths')"
            ]
          },
          "metadata": {},
          "execution_count": 120
        },
        {
          "output_type": "display_data",
          "data": {
            "text/plain": [
              "<Figure size 2000x500 with 1 Axes>"
            ],
            "image/png": "[encoded data removed]"
          },
          "metadata": {}
        }
      ]
    },
    {
      "cell_type": "markdown",
      "source": [
        "# dasboard [Penyebab Kematian di Indonesia Tahun 2000 - 2022](https://lookerstudio.google.com/reporting/a523c766-c505-4c60-8fb9-5e08e6926b29)"
      ],
      "metadata": {
        "id": "PtpQS2w5JeBU"
      }
    },
    {
      "cell_type": "code",
      "source": [],
      "metadata": {
        "id": "kuiI4DkFSr9n"
      },
      "execution_count": 101,
      "outputs": []
    }
  ]
}